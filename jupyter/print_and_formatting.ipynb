{
 "cells": [
  {
   "cell_type": "markdown",
   "id": "listed-sword",
   "metadata": {},
   "source": [
    "### 1. How to write a comment in Python"
   ]
  },
  {
   "cell_type": "code",
   "execution_count": 1,
   "id": "special-profit",
   "metadata": {},
   "outputs": [],
   "source": [
    "# this is a comment"
   ]
  },
  {
   "cell_type": "code",
   "execution_count": 2,
   "id": "alert-deadline",
   "metadata": {},
   "outputs": [
    {
     "data": {
      "text/plain": [
       "'\\nThis is a comment \\nwritten in more \\nthan just one line\\n'"
      ]
     },
     "execution_count": 2,
     "metadata": {},
     "output_type": "execute_result"
    }
   ],
   "source": [
    "\"\"\"\n",
    "This is a comment \n",
    "written in more \n",
    "than just one line\n",
    "\"\"\""
   ]
  },
  {
   "cell_type": "markdown",
   "id": "laughing-belgium",
   "metadata": {},
   "source": [
    "### 2. Simple printing text or variables"
   ]
  },
  {
   "cell_type": "code",
   "execution_count": 3,
   "id": "placed-combination",
   "metadata": {},
   "outputs": [
    {
     "name": "stdout",
     "output_type": "stream",
     "text": [
      "Python is named after Monty Python!\n"
     ]
    }
   ],
   "source": [
    "print(\"Python is named after Monty Python!\")"
   ]
  },
  {
   "cell_type": "code",
   "execution_count": 4,
   "id": "elder-showcase",
   "metadata": {},
   "outputs": [
    {
     "name": "stdout",
     "output_type": "stream",
     "text": [
      "4\n"
     ]
    }
   ],
   "source": [
    "a = 4\n",
    "print(a)"
   ]
  },
  {
   "cell_type": "markdown",
   "id": "charming-retailer",
   "metadata": {},
   "source": [
    "### 1: Simple printing of a variable and formatting"
   ]
  },
  {
   "cell_type": "code",
   "execution_count": 5,
   "id": "private-speed",
   "metadata": {},
   "outputs": [
    {
     "name": "stdout",
     "output_type": "stream",
     "text": [
      "31.328058334323252\n",
      "x = 31.328058334323252\n",
      "x = 31.33\n",
      "x = 3.13e+01\n",
      "a = 4 and x = 31.328058334323252\n",
      "a = 4 and x = 31.33\n"
     ]
    }
   ],
   "source": [
    "x = 31.3280583343232523523\n",
    "print(x)\n",
    "print(\"x = {}\".format(x))\n",
    "print(\"x = {:5.2f}\".format(x))\n",
    "print(\"x = {:5.2e}\".format(x))\n",
    "print(\"a = {} and x = {}\".format(a,x))\n",
    "print(\"a = {} and x = {:5.2f}\".format(a,x))"
   ]
  },
  {
   "cell_type": "code",
   "execution_count": null,
   "id": "exact-kinase",
   "metadata": {},
   "outputs": [],
   "source": []
  }
 ],
 "metadata": {
  "kernelspec": {
   "display_name": "Python 3",
   "language": "python",
   "name": "python3"
  },
  "language_info": {
   "codemirror_mode": {
    "name": "ipython",
    "version": 3
   },
   "file_extension": ".py",
   "mimetype": "text/x-python",
   "name": "python",
   "nbconvert_exporter": "python",
   "pygments_lexer": "ipython3",
   "version": "3.9.2"
  }
 },
 "nbformat": 4,
 "nbformat_minor": 5
}
